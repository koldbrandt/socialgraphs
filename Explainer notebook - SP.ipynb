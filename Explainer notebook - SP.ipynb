{
 "cells": [
  {
   "cell_type": "markdown",
   "metadata": {},
   "source": [
    "# South Park network analysis\n",
    "South park is an animated sitcom created by Trey Parker and Matt Stone. The Show debuted on August 13, 1997 and There has been produced 23 seasons and 2 special since. South Park is about the 4 friends Eric Cartman, Stan Marsh, Kyle Broflovski and Kenny McCormick. The show is characterized by having many odd and improbable characters that is both made up and parodies of celebreties and public figures. The show do often involve with controversy and taboo subjects. \n",
    "\n",
    "### Our inspiration\n",
    "South park is a tv show that has existed as long as we can remember, we have therefore grown up with it. South park has a tendency to make shock value humor which speaks to a lot of young people. The fuck everything kind of mentality is excatly what we find fun and entertaining. The show has evolved through the years, we therefore thought it would be interesting to dig into how the characters interlink with each other and how the language has changed thorugh the seasons. \n",
    "\n",
    "### Goal for the project \n",
    "This notebook will give an introduction to the south park network. It will look at how characters interlink with each other and show stats from the network. There will be done commentary and explanations on the analysis. The analysis will be on basic stats, but will also dig into sentiment analysis of the main characters and how their language evolve through the seasons. There will be looked at the characters categories and see if they correspond to the communities that can be found from the GCC. \n"
   ]
  },
  {
   "cell_type": "markdown",
   "metadata": {},
   "source": [
    "## The dataset\n",
    "The dataset is from southpark.fandom.com where we download all character pages and episode scripts. A character link to anoher character if the other character is mentioned in its character page. This way a digraph can be created for characters that interact with each other. Lets start with looking at how the characters are found in a character pages. It therefore started by collecting all character pages. The characters can be found in the csv \"characters.csv\""
   ]
  },
  {
   "cell_type": "markdown",
   "metadata": {},
   "source": [
    "Regex has been used to subtract the characters. The pattern is as followed $[[chacarter link]]$ or $[[chacarter link|name]]$ this made for a rather simple regex. This did however also give a lot of links to episodes and not only characters. It were therefore necessary to check if they were in the character list that were created. "
   ]
  },
  {
   "cell_type": "code",
   "execution_count": null,
   "metadata": {},
   "outputs": [],
   "source": []
  }
 ],
 "metadata": {
  "kernelspec": {
   "display_name": "Python 3",
   "language": "python",
   "name": "python3"
  },
  "language_info": {
   "codemirror_mode": {
    "name": "ipython",
    "version": 3
   },
   "file_extension": ".py",
   "mimetype": "text/x-python",
   "name": "python",
   "nbconvert_exporter": "python",
   "pygments_lexer": "ipython3",
   "version": "3.7.4"
  }
 },
 "nbformat": 4,
 "nbformat_minor": 4
}
